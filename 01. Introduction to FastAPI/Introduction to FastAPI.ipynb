{
 "cells": [
  {
   "cell_type": "markdown",
   "id": "2a744d37-5fab-497d-818f-55ae6379ddc2",
   "metadata": {},
   "source": [
    "# Introduction to FastAPI\n",
    "\n",
    "**remark** - you cannot run the servers from this notebook. You must use a terminal then cd into this directory and then run the website. You can then access the website using for example the `requests` library.\n",
    "\n",
    "## Chapter 1 - FastAPI Basics\n",
    "\n",
    "### Section 1.1 - Why FastAPI"
   ]
  },
  {
   "cell_type": "markdown",
   "id": "506cf639-239d-4fc7-94e1-37f49c5b4fec",
   "metadata": {},
   "source": [
    "#### First application\n",
    "Let's run the FastAPI server for the first time! You can't run the FastAPI server directly with \"Run this file\" - see the instructions for how to run and stop the server from the terminal."
   ]
  },
  {
   "cell_type": "code",
   "execution_count": null,
   "id": "413e178f-b314-4d94-9dc9-aaad3e2db8bd",
   "metadata": {},
   "outputs": [],
   "source": [
    "%%writefile main.py\n",
    "from fastapi import FastAPI\n",
    "\n",
    "app = FastAPI()\n",
    "\n",
    "\n",
    "@app.get(\"/\")\n",
    "def root():\n",
    "    return {\"message\": \"Hello World\"}"
   ]
  },
  {
   "cell_type": "markdown",
   "id": "8b7ea056-2a3e-4c32-bcf2-06c942f17077",
   "metadata": {},
   "source": [
    "run the app by executuring the following command in terminal from this directory"
   ]
  },
  {
   "cell_type": "raw",
   "id": "3fde2265-0e42-4f25-89ab-7bb8e20f9f29",
   "metadata": {},
   "source": [
    "fastapi dev main.py"
   ]
  },
  {
   "cell_type": "code",
   "execution_count": null,
   "id": "c4e3d181-740a-4d53-8d1c-2e8f60743436",
   "metadata": {},
   "outputs": [],
   "source": [
    "!curl http://localhost:8000"
   ]
  },
  {
   "cell_type": "markdown",
   "id": "3209a6c1-5e23-446d-80ca-15590eec1026",
   "metadata": {},
   "source": [
    "### Section 1.2 - GET operations"
   ]
  },
  {
   "cell_type": "markdown",
   "id": "461c1cb3-93d1-4e7d-a759-1819a95c320a",
   "metadata": {},
   "source": [
    "#### Hello world\n",
    "\n",
    "Let's build your first GET endpoint! You can't run the FastAPI server directly with \"Run this file\" - see the instructions for how to run and stop the server from the terminal."
   ]
  },
  {
   "cell_type": "code",
   "execution_count": null,
   "id": "cf1ac2e1-696b-445d-95fd-24b8aa2f99f7",
   "metadata": {},
   "outputs": [],
   "source": [
    "%%writefile main.py\n",
    "from fastapi import FastAPI\n",
    "\n",
    "app = FastAPI()\n",
    "\n",
    "\n",
    "@app.get(\"/\")\n",
    "def root():\n",
    "    return {\"message\": \"Hello World\"}\n",
    "\n",
    "@app.get(\"/hello\")\n",
    "def hello(name: str = \"Alan\"):\n",
    "    return {\"message\": f\"Hello {name}\"}"
   ]
  },
  {
   "cell_type": "code",
   "execution_count": null,
   "id": "bb306769-9484-4c5d-80bf-469e48f0a2df",
   "metadata": {},
   "outputs": [],
   "source": [
    "!curl http://localhost:8000"
   ]
  },
  {
   "cell_type": "code",
   "execution_count": null,
   "id": "ec15e948-ae90-4ffe-be04-e6102674ca84",
   "metadata": {},
   "outputs": [],
   "source": [
    "!curl http://localhost:8000/hello"
   ]
  },
  {
   "cell_type": "code",
   "execution_count": null,
   "id": "1836878f-6e64-4f56-9f00-1407c8cf1d5f",
   "metadata": {},
   "outputs": [],
   "source": [
    "!curl -H 'Content-Type: application/jsons' http://localhost:8000/hello"
   ]
  },
  {
   "cell_type": "code",
   "execution_count": null,
   "id": "ac678864-5fa0-4277-9204-a0bd2ff825f6",
   "metadata": {},
   "outputs": [],
   "source": [
    "import requests\n",
    "\n",
    "response = requests.get(\n",
    "    \"http://localhost:8000\",\n",
    "    headers={\"Content-Type\": \"application/json\"},\n",
    "    params={\"name\": \"Steve\"}\n",
    ")\n",
    "\n",
    "print(response.status_code)\n",
    "print(response.json())"
   ]
  },
  {
   "cell_type": "markdown",
   "id": "e17c614e-164a-4159-a484-ae4a5e098392",
   "metadata": {},
   "source": [
    "### Section 1.3 - POST operations"
   ]
  },
  {
   "cell_type": "markdown",
   "id": "c649e88d-74a9-45ed-8b45-0bdef95d83bf",
   "metadata": {},
   "source": [
    "#### Pydantic model\n",
    "\n",
    "You've been asked to create an API endpoint that manages items in inventory. To get started, create a Pydantic model for Items that has attributes name, quantity, and expiration."
   ]
  },
  {
   "cell_type": "code",
   "execution_count": null,
   "id": "87934080-d945-4aed-b3fc-31080cff3fff",
   "metadata": {},
   "outputs": [],
   "source": [
    "# Import date\n",
    "from datetime import date\n",
    "\n",
    "# Import BaseModel\n",
    "from pydantic import BaseModel\n",
    "\n",
    "# Define model Item\n",
    "class Item(BaseModel):\n",
    "    name: str\n",
    "    quantity: int = 0\n",
    "    expiration: date = None"
   ]
  },
  {
   "cell_type": "markdown",
   "id": "5838ad71-afdc-4881-ad9d-c6ea6137efd3",
   "metadata": {},
   "source": [
    "#### POST operation in action\n",
    "You've been asked to create an API endpoint that accepts a `name` parameter and returns a message saying \"We have name\". To accomplish this, create a Pydantic model for Item and root endpoint (/) that serves HTTP POST operations. The endpoint should accept the `Item` model as input and respond with a message including `Item.name`.\n",
    "\n",
    "You can't run the FastAPI server directly with \"Run this file\" - see the instructions for how to run the server and test your code from the terminal."
   ]
  },
  {
   "cell_type": "code",
   "execution_count": null,
   "id": "c86750f8-4e95-49cc-a707-6e81239ceb12",
   "metadata": {},
   "outputs": [],
   "source": [
    "%%writefile main.py\n",
    "from fastapi import FastAPI\n",
    "from pydantic import BaseModel\n",
    "\n",
    "# Define model Item\n",
    "class Item(BaseModel):\n",
    "    name: str\n",
    "\n",
    "app = FastAPI()\n",
    "\n",
    "\n",
    "@app.post(\"/\")\n",
    "def root(item: Item):\n",
    "    name = item.name\n",
    "    return {\"message\": f\"We have {name}\"}"
   ]
  },
  {
   "cell_type": "raw",
   "id": "5663547f-00f4-4472-9df4-d9f3a23c4e9c",
   "metadata": {},
   "source": [
    "curl -X POST \\\n",
    "  -H 'Content-Type: application/json' \\\n",
    "  -d '{\"name\": \"bananas\"}' \\\n",
    "  http://localhost:8000"
   ]
  },
  {
   "cell_type": "code",
   "execution_count": null,
   "id": "8aff43ba-863e-4a49-8a7f-0706f3a2db82",
   "metadata": {},
   "outputs": [],
   "source": [
    "!curl -X POST -H 'Content-Type: application/json' -d '{\"name\": \"bananas\"}' http://localhost:8000"
   ]
  },
  {
   "cell_type": "code",
   "execution_count": null,
   "id": "e151b147-34b7-4bf6-be5b-ffd6f52419c5",
   "metadata": {},
   "outputs": [],
   "source": [
    "import requests\n",
    "\n",
    "response = requests.post(\n",
    "    \"http://localhost:8000\",\n",
    "    headers={\"Content-Type\": \"application/json\"},\n",
    "    json={\"name\": \"Steve\"}\n",
    ")\n",
    "\n",
    "print(response.status_code)\n",
    "print(response.json())"
   ]
  },
  {
   "cell_type": "markdown",
   "id": "ff4a624e-a74a-49fd-b9e4-a1a128c33eac",
   "metadata": {},
   "source": [
    "## Chapter 2 - FastAPI Advanced topics"
   ]
  },
  {
   "cell_type": "markdown",
   "id": "d3d0701f-1b2f-4b4b-af5a-3066808e5e08",
   "metadata": {},
   "source": [
    "### Section 2.1 PUT and DELETE operations"
   ]
  },
  {
   "cell_type": "markdown",
   "id": "bda99042-43da-4049-9443-02087f85c244",
   "metadata": {},
   "source": [
    "#### PUT operation in action\n",
    "You've been asked to create a PUT endpoint `/items` that accepts parameters `name` and `description` and updates the `description` based on the `name` in a key-value store called `items`.\n",
    "\n",
    "You can't run the FastAPI server directly with \"Run this file\" - see the instructions for how to run the server and test your code from the terminal."
   ]
  },
  {
   "cell_type": "code",
   "execution_count": null,
   "id": "75843410-3c53-46d5-af36-7e148f02f45b",
   "metadata": {},
   "outputs": [],
   "source": [
    "%%writefile main.py\n",
    "from fastapi import FastAPI\n",
    "from pydantic import BaseModel\n",
    "\n",
    "# Define model Item\n",
    "class Item(BaseModel):\n",
    "    name: str\n",
    "    description: str\n",
    "\n",
    "# Define items at application start\n",
    "items = {\"bananas\": \"Yellow fruit.\"}\n",
    "\n",
    "app = FastAPI()\n",
    "\n",
    "\n",
    "@app.put(\"/items\")\n",
    "def update_item(item: Item):\n",
    "    name = item.name\n",
    "    # Update the description\n",
    "    items[name] = item.description\n",
    "    return item"
   ]
  },
  {
   "cell_type": "raw",
   "id": "99b4d4bc-6774-44c6-835a-3d043957136e",
   "metadata": {},
   "source": [
    "curl -X PUT \\\n",
    "  -H 'Content-Type: application/json' \\\n",
    "  -d '{\"name\": \"bananas\", \"description\": \"Delicious!\"}' \\\n",
    "  http://localhost:8000/items"
   ]
  },
  {
   "cell_type": "code",
   "execution_count": null,
   "id": "d41cd6d5-6662-4aec-bec3-03673fba4978",
   "metadata": {},
   "outputs": [],
   "source": [
    "!curl -X PUT -H 'Content-Type: application/json' -d '{\"name\": \"bananas\", \"description\": \"Delicious!\"}' http://localhost:8000/items"
   ]
  },
  {
   "cell_type": "code",
   "execution_count": null,
   "id": "e4519782-1b25-4f3a-b6ab-1ed38aedefa0",
   "metadata": {},
   "outputs": [],
   "source": [
    "data = {\"name\": \"bananas\", \"description\": \"Delicious!\"}\n",
    "headers={\"Content-Type\": \"application/json\"}\n",
    "response = requests.put(\"http://localhost:8000/items\", json=data, headers=headers)\n",
    "response.json()"
   ]
  },
  {
   "cell_type": "markdown",
   "id": "9c694915-1521-4be7-9077-09741ce1176d",
   "metadata": {},
   "source": [
    "#### DELETE operation in action\n",
    "\n",
    "You've been asked to create a DELETE endpoint that accepts parameter name and deletes the item called `name` from a key store called `items`.\n",
    "\n",
    "You can't run the FastAPI server directly with \"Run this file\" - see the instructions for how to run the server and test your code from the terminal."
   ]
  },
  {
   "cell_type": "code",
   "execution_count": null,
   "id": "7ec99952-b0c7-4d81-83a8-d132b30af8b9",
   "metadata": {},
   "outputs": [],
   "source": [
    "%%writefile main.py\n",
    "from fastapi import FastAPI\n",
    "from pydantic import BaseModel\n",
    "\n",
    "# Define model Item\n",
    "class Item(BaseModel):\n",
    "    name: str\n",
    "\n",
    "# Define items at application start\n",
    "items = {\"apples\", \"oranges\", \"bananas\"}\n",
    "\n",
    "app = FastAPI()\n",
    "\n",
    "\n",
    "@app.delete(\"/items\")\n",
    "def delete_item(item: Item):\n",
    "    name = item.name\n",
    "    # Delete the item\n",
    "    items.remove(name)\n",
    "    return {}"
   ]
  },
  {
   "cell_type": "raw",
   "id": "312151f3-8c97-49e1-8e33-2f1737965082",
   "metadata": {},
   "source": [
    "curl -X DELETE \\\n",
    "  -H 'Content-Type: application/json' \\\n",
    "  -d '{\"name\": \"bananas\"}' \\\n",
    "  http://localhost:8000/items"
   ]
  },
  {
   "cell_type": "code",
   "execution_count": null,
   "id": "128a73a9-43f5-4f22-9481-f021749866c1",
   "metadata": {},
   "outputs": [],
   "source": [
    "!curl -X DELETE -H 'Content-Type: application/json' -d '{\"name\": \"bananas\"}' http://localhost:8000/items"
   ]
  },
  {
   "cell_type": "code",
   "execution_count": null,
   "id": "636cd8c0-9a1a-42e0-846d-68e79b5de6e4",
   "metadata": {},
   "outputs": [],
   "source": [
    "url = \"http://localhost:8000/items\"\n",
    "data = {\"name\": \"apples\"}\n",
    "headers = {'Content-Type': 'application/json'}\n",
    "response = requests.delete(url, json=data, headers=headers)\n",
    "response.json()"
   ]
  },
  {
   "cell_type": "markdown",
   "id": "3c5bbd10-2d99-4842-ba0f-e1a64f5d5c5b",
   "metadata": {},
   "source": [
    "### Section 2.2 - Handling errors"
   ]
  },
  {
   "cell_type": "markdown",
   "id": "39fe9527-5cf6-487b-a5f6-a7941d79e344",
   "metadata": {},
   "source": [
    "#### Handling a client error\n",
    "\n",
    "You've been asked to create a DELETE endpoint that accepts parameter `name` and deletes the item called name from a key store called `items`. If the item is not found, the endpoint should return an appropriate status code and detailed message.\n",
    "\n",
    "You can't run the FastAPI server directly with \"Run this file\" - see the instructions for how to run the server and test your code from the terminal."
   ]
  },
  {
   "cell_type": "code",
   "execution_count": null,
   "id": "dc6ce60f-fb30-4039-a815-5799ea4f63cd",
   "metadata": {},
   "outputs": [],
   "source": [
    "%%writefile main.py\n",
    "from fastapi import FastAPI, HTTPException\n",
    "from pydantic import BaseModel\n",
    "\n",
    "# Define model Item\n",
    "class Item(BaseModel):\n",
    "    name: str\n",
    "\n",
    "# Define items at application startup\n",
    "items = {\"apples\", \"oranges\"}\n",
    "\n",
    "app = FastAPI()\n",
    "\n",
    "\n",
    "@app.delete(\"/items\")\n",
    "def delete_item(item: Item):\n",
    "    name = item.name\n",
    "    if name in items:\n",
    "        items.remove(name)\n",
    "    else:\n",
    "        # Raise HTTPException with status code for \"not found\"\n",
    "        raise HTTPException(status_code=404, detail=\"Item not found.\")\n",
    "    return {}"
   ]
  },
  {
   "cell_type": "raw",
   "id": "80ebf366-0c2f-4ccd-939e-6d4d79de4312",
   "metadata": {},
   "source": [
    "curl -X DELETE \\\n",
    "  -H 'Content-Type: application/json' \\\n",
    "  -d '{\"name\": \"bananas\"}' \\\n",
    "  http://localhost:8000/items"
   ]
  },
  {
   "cell_type": "code",
   "execution_count": null,
   "id": "51b16eb0-992a-4a0d-a6aa-31982c452e4e",
   "metadata": {},
   "outputs": [],
   "source": [
    "!curl -X DELETE -H 'Content-Type: application/json' -d '{\"name\": \"bananas\"}'  http://localhost:8000/items"
   ]
  },
  {
   "cell_type": "code",
   "execution_count": null,
   "id": "481264d2-e4d9-4529-a655-c948ae722d27",
   "metadata": {},
   "outputs": [],
   "source": [
    "url = \"http://localhost:8000/items\"\n",
    "data = {\"name\": \"peach\"}\n",
    "headers = {'Content-Type': 'application/json'}\n",
    "response = requests.delete(url, json=data, headers=headers)\n",
    "response.json()"
   ]
  },
  {
   "cell_type": "markdown",
   "id": "07c0eee6-2aac-407d-b71e-60b1010fcecf",
   "metadata": {},
   "source": [
    "### Section 2.3 - Using async for concurrent work"
   ]
  },
  {
   "cell_type": "markdown",
   "id": "43c87dba-0729-4e28-b032-3365f455fcc8",
   "metadata": {},
   "source": [
    "#### Asynchronous DELETE operation\n",
    "You've been asked to create an API endpoint that deletes items managed by your API. To accomplish this, create an endpoint `/items` that serves HTTP DELETE operations. Make the endpoint asynchronous, so that your application can continue to serve requests while maintaining any long-running deletion tasks.\n",
    "\n",
    "We can't run the FastAPI server directly with \"Run this file\" - see the instructions for how to run the server and test your code from the terminal."
   ]
  },
  {
   "cell_type": "code",
   "execution_count": null,
   "id": "6184843d-4636-4d7a-82dd-9904b0187e3e",
   "metadata": {},
   "outputs": [],
   "source": [
    "%%writefile main.py\n",
    "from fastapi import FastAPI, HTTPException\n",
    "from pydantic import BaseModel\n",
    "\n",
    "# Define model Item\n",
    "class Item(BaseModel):\n",
    "    name: str\n",
    "\n",
    "app = FastAPI()\n",
    "\n",
    "items = {\"rock\", \"paper\", \"scissors\"}\n",
    "\n",
    "\n",
    "@app.delete(\"/items\")\n",
    "# Make asynchronous\n",
    "async def root(item: Item):\n",
    "    name = item.name\n",
    "    # Check if name is in items\n",
    "    if name not in items:\n",
    "        # Return the status code for not found\n",
    "        raise HTTPException(status_code=404, detail=\"Item not found.\")\n",
    "    items.remove(name)\n",
    "    return {\"message\": \"Item deleted\"}"
   ]
  },
  {
   "cell_type": "raw",
   "id": "8397df48-06ca-438c-a8f6-b6cd69099081",
   "metadata": {},
   "source": [
    "curl -X DELETE \\\n",
    "  -H 'Content-Type: application/json' \\\n",
    "  -d '{\"name\": \"rock\"}' \\\n",
    "  http://localhost:8000/items\n",
    "\n",
    "curl -X DELETE \\\n",
    "  -H 'Content-Type: application/json' \\\n",
    "  -d '{\"name\": \"roll\"}' \\\n",
    "  http://localhost:8000/items"
   ]
  },
  {
   "cell_type": "code",
   "execution_count": null,
   "id": "18b5e800-084b-4e43-b1bb-4304078c0ae4",
   "metadata": {},
   "outputs": [],
   "source": [
    "url = \"http://localhost:8000/items\"\n",
    "data = {\"name\": \"rock\"}\n",
    "headers = {'Content-Type': 'application/json'}\n",
    "response = requests.delete(url, json=data, headers=headers)\n",
    "print(response.json())\n",
    "\n",
    "data = {\"name\": \"roll\"}\n",
    "headers = {'Content-Type': 'application/json'}\n",
    "response = requests.delete(url, json=data, headers=headers)\n",
    "print(response.json())\n"
   ]
  },
  {
   "cell_type": "markdown",
   "id": "da8d8d54-6b74-4201-90b4-a53c97857fa7",
   "metadata": {},
   "source": [
    "## Chapter 3 - FastAPI automated testing"
   ]
  },
  {
   "cell_type": "code",
   "execution_count": null,
   "id": "a6f1fd65-fb15-40fa-b2a8-1bcac2f0b35e",
   "metadata": {},
   "outputs": [],
   "source": [
    "from fastapi.testclient import TestClient\n",
    "#from .main import app\n",
    "\n",
    "client = TestClient(app)"
   ]
  },
  {
   "cell_type": "markdown",
   "id": "adbaee20-e943-4282-aa18-f304ea26e2ec",
   "metadata": {},
   "source": [
    "#### System test\n",
    "You've built your FastAPI application and added unit tests to verify code functionality. Writing a system test for an API endpoint will ensure that the endpoint works on the running application.\n",
    "\n",
    "We can't run the FastAPI server directly with \"Run this file\" - see the instructions for how to run the server and test your code from the terminal."
   ]
  },
  {
   "cell_type": "code",
   "execution_count": null,
   "id": "c7e4e3bb-c52c-4885-b833-8a414e8c3886",
   "metadata": {},
   "outputs": [],
   "source": [
    "%%writefile main.py\n",
    "from fastapi import FastAPI, HTTPException\n",
    "from pydantic import BaseModel\n",
    "from typing import Optional\n",
    "\n",
    "# define model Item\n",
    "class Item(BaseModel):\n",
    "    name: str\n",
    "    quantity: Optional[int] = 0\n",
    "\n",
    "app = FastAPI()\n",
    "\n",
    "items = {\"scissors\": Item(name=\"scissors\", quantity=100)}\n",
    "\n",
    "\n",
    "@app.get(\"/items\")\n",
    "def read(name: str):\n",
    "    print(name)\n",
    "    if name not in items:\n",
    "        raise HTTPException(status_code=404, detail=\"Item not found\")\n",
    "    return items[name]"
   ]
  },
  {
   "cell_type": "code",
   "execution_count": null,
   "id": "41c7dda8-f03c-466c-bea5-4b5e2201ead2",
   "metadata": {},
   "outputs": [],
   "source": [
    "import requests\n",
    "\n",
    "url = \"http://localhost:8000/items\"\n",
    "params = {\"name\": \"scissors\"}  # this goes into the query string\n",
    "\n",
    "response = requests.get(url, params=params)\n",
    "\n",
    "print(response.status_code)\n",
    "print(response.json())"
   ]
  },
  {
   "cell_type": "code",
   "execution_count": null,
   "id": "0bdf5cc2-2035-43f5-a7f4-66e00a3186e2",
   "metadata": {},
   "outputs": [],
   "source": [
    "%%writefile system_test.py\n",
    "# Import TestClient\n",
    "from fastapi.testclient import TestClient\n",
    "from main import app\n",
    "\n",
    "# Create test client with application context\n",
    "client = TestClient(app)\n",
    "\n",
    "def test_main():\n",
    "    response = client.get(\"/items?name=scissors\")\n",
    "    assert response.status_code == 200\n",
    "    assert response.json() == {\"name\": \"scissors\",\n",
    "                               \"quantity\": 100}"
   ]
  },
  {
   "cell_type": "code",
   "execution_count": null,
   "id": "36e4da6d-cdd9-4438-bb10-c3daec63fd2b",
   "metadata": {},
   "outputs": [],
   "source": [
    "!pytest"
   ]
  },
  {
   "cell_type": "markdown",
   "id": "48e55712-4ff2-457e-8424-95ffb3b9b01a",
   "metadata": {},
   "source": [
    "### Section 3.2 - Building and testing a JSON CRUD API"
   ]
  },
  {
   "cell_type": "markdown",
   "id": "f58a5b28-c044-41e9-98e3-1da5dda66922",
   "metadata": {},
   "source": [
    "#### Complete JSON CRUD API\n",
    "\n",
    "You've been asked to build a JSON CRUD API to manage item names and quantities. To test your API you need to create an item, read it, update it, delete, and verify it's been deleted.\n",
    "\n",
    "We can't run the FastAPI server directly with \"Run this file\" - see the instructions for how to run the server and test your code from the terminal.\n"
   ]
  },
  {
   "cell_type": "code",
   "execution_count": null,
   "id": "3271294a-9986-40a0-b63c-9606ccc7ba0d",
   "metadata": {},
   "outputs": [],
   "source": [
    "%%writefile main.py\n",
    "from fastapi import FastAPI, HTTPException\n",
    "from pydantic import BaseModel\n",
    "from typing import Optional\n",
    "\n",
    "# define model Item\n",
    "class Item(BaseModel):\n",
    "    name: str\n",
    "    quantity: Optional[int] = 0\n",
    "\n",
    "app = FastAPI()\n",
    "\n",
    "items = {}\n",
    "\n",
    "@app.post(\"/items\")\n",
    "def create(item: Item):\n",
    "    name = item.name\n",
    "    if name in items:\n",
    "        raise HTTPException(status_code=409, detail=\"Item exists\")\n",
    "    items[name] = item\n",
    "    return {\"message\": f\"Added {name} to items.\"}\n",
    "  \n",
    "@app.get(\"/items\")\n",
    "def read(name: str):\n",
    "    if name not in items:\n",
    "        raise HTTPException(status_code=404, detail=\"Item not found\")\n",
    "    return items[name]  \n",
    "  \n",
    "@app.put(\"/items\")\n",
    "def update(item: Item):\n",
    "    name = item.name\n",
    "    if name not in items:\n",
    "        raise HTTPException(status_code=404, detail=\"Item not found\")\n",
    "    items[name] = item\n",
    "    return {\"message\": f\"Updated {name}.\"}\n",
    "  \n",
    "@app.delete(\"/items\")\n",
    "def delete(item: Item):\n",
    "    name = item.name\n",
    "    if name not in items:\n",
    "        raise HTTPException(status_code=405, detail=\"Item not found\")\n",
    "    del items[name]\n",
    "    return {\"message\": f\"Deleted {name}.\"}"
   ]
  },
  {
   "cell_type": "raw",
   "id": "ecfc4173-c72c-467a-a868-84e42f9616f8",
   "metadata": {},
   "source": [
    "curl -X POST \\\n",
    "  -H 'Content-Type: application/json' \\\n",
    "  -d '{\"name\": \"rock\"}' \\\n",
    "  http://localhost:8000/items\n",
    "\n",
    "curl http://localhost:8000/items?name=rock\n",
    "\n",
    "curl -X PUT \\\n",
    "  -H 'Content-Type: application/json' \\\n",
    "  -d '{\"name\": \"rock\", \"quantity\": 100}' \\\n",
    "  http://localhost:8000/items\n",
    "\n",
    "curl -X DELETE \\\n",
    "  -H 'Content-Type: application/json' \\\n",
    "  -d '{\"name\": \"rock\"}' \\\n",
    "  http://localhost:8000/items\n",
    "\n",
    "curl http://localhost:8000/items?name=rock"
   ]
  },
  {
   "cell_type": "code",
   "execution_count": null,
   "id": "b0ea2962-a2db-4586-9d69-186bf382634e",
   "metadata": {},
   "outputs": [],
   "source": [
    "url = \"http://localhost:8000/items\"\n",
    "data = {\"name\": \"rock\"}\n",
    "headers = {'Content-Type': 'application/json'}\n",
    "response = requests.post(url, json=data, headers=headers)\n",
    "print(response.json())\n",
    "\n",
    "params={\"name\":\"rock\"}\n",
    "response = requests.get(url,params=params, headers=headers)\n",
    "print(response.json())\n",
    "\n",
    "data = {\"name\": \"rock\", \"quantity\": 100}\n",
    "response = requests.put(url, json=data, headers=headers)\n",
    "print(response.json())\n",
    "\n",
    "params={\"name\":\"rock\"}\n",
    "response = requests.get(url,params=params, headers=headers)\n",
    "print(response.json())\n",
    "\n",
    "data = {\"name\": \"rock\"}\n",
    "response = requests.delete(url,json=params, headers=headers)\n",
    "print(response.json())"
   ]
  },
  {
   "cell_type": "markdown",
   "id": "88b20739-279f-4baf-9e9c-b97273aca422",
   "metadata": {},
   "source": [
    "### Section 3.3. - Writing a manual functional test"
   ]
  },
  {
   "cell_type": "markdown",
   "id": "465d422a-c1e8-492f-9b56-67f0474e8145",
   "metadata": {},
   "source": [
    "#### Functional test\n",
    "\n",
    "You've built your FastAPI application and added system tests to verify the functionality of each endpoint. Building a functional test for a core API workflow will ensure that the endpoints work together for the full life cycle of your data.\n",
    "\n",
    "We can't run the FastAPI server directly with \"Run this file\" - see the instructions for how to run the server and test your code from the terminal."
   ]
  },
  {
   "cell_type": "code",
   "execution_count": null,
   "id": "017bf471-16dd-407a-8b4f-65aaae014786",
   "metadata": {},
   "outputs": [],
   "source": [
    "%%writefile functional_test.py\n",
    "import requests\n",
    "\n",
    "ENDPOINT = \"http://localhost:8000/items\"\n",
    "\n",
    "# Create item \"rock\" without providing quantity\n",
    "r = requests.post(ENDPOINT, json={\"name\": \"rock\"})\n",
    "assert r.status_code == 200\n",
    "assert r.json()[\"message\"] == \"Added rock to items.\"\n",
    "\n",
    "# Verify that item \"rock\" has quantity 0\n",
    "r = requests.get(ENDPOINT + \"?name=rock\")\n",
    "assert r.status_code == 200\n",
    "assert r.json()[\"quantity\"] == 0\n",
    "\n",
    "# Update item \"rock\" with quantity 100\n",
    "r = requests.put(ENDPOINT, json={\"name\": \"rock\", \"quantity\": 100})\n",
    "assert r.status_code == 200\n",
    "assert r.json()[\"message\"] == \"Updated rock.\"\n",
    "\n",
    "# Verify that item \"rock\" has quantity 100\n",
    "r = requests.get(ENDPOINT + \"?name=rock\")\n",
    "assert r.status_code == 200\n",
    "assert r.json()[\"quantity\"] == 100\n",
    "\n",
    "# Delete item \"rock\"\n",
    "r = requests.delete(ENDPOINT, json={\"name\": \"rock\"})\n",
    "assert r.status_code == 200\n",
    "assert r.json()[\"message\"] == \"Deleted rock.\"\n",
    "\n",
    "# Verify that item \"rock\" does not exist\n",
    "r = requests.get(ENDPOINT + \"?name=rock\")\n",
    "assert r.status_code == 404\n",
    "\n",
    "print(\"Test complete.\")"
   ]
  },
  {
   "cell_type": "code",
   "execution_count": null,
   "id": "9fd1caf8-e8f4-4236-abde-b7326f3efacc",
   "metadata": {},
   "outputs": [],
   "source": [
    "%run functional_test.py"
   ]
  },
  {
   "cell_type": "code",
   "execution_count": null,
   "id": "fe59c537-93c4-4ea6-80c5-38c6eb283770",
   "metadata": {},
   "outputs": [],
   "source": []
  }
 ],
 "metadata": {
  "kernelspec": {
   "display_name": "Python 3 (ipykernel)",
   "language": "python",
   "name": "python3"
  },
  "language_info": {
   "codemirror_mode": {
    "name": "ipython",
    "version": 3
   },
   "file_extension": ".py",
   "mimetype": "text/x-python",
   "name": "python",
   "nbconvert_exporter": "python",
   "pygments_lexer": "ipython3",
   "version": "3.10.12"
  }
 },
 "nbformat": 4,
 "nbformat_minor": 5
}
