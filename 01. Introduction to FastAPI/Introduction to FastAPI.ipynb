{
 "cells": [
  {
   "cell_type": "markdown",
   "id": "2a744d37-5fab-497d-818f-55ae6379ddc2",
   "metadata": {},
   "source": [
    "# Introduction to FastAPI\n",
    "\n",
    "**remark** - you cannot run the servers from this notebook. You must use a terminal then cd into this directory and then run the website. You can then access the website using for example the `requests` library.\n",
    "\n",
    "## Chapter 1 - FastAPI Basics\n",
    "\n",
    "### Section 1.1 - Why FastAPI"
   ]
  },
  {
   "cell_type": "markdown",
   "id": "506cf639-239d-4fc7-94e1-37f49c5b4fec",
   "metadata": {},
   "source": [
    "#### First application\n",
    "Let's run the FastAPI server for the first time! You can't run the FastAPI server directly with \"Run this file\" - see the instructions for how to run and stop the server from the terminal."
   ]
  },
  {
   "cell_type": "code",
   "execution_count": 6,
   "id": "413e178f-b314-4d94-9dc9-aaad3e2db8bd",
   "metadata": {},
   "outputs": [
    {
     "name": "stdout",
     "output_type": "stream",
     "text": [
      "Overwriting main.py\n"
     ]
    }
   ],
   "source": [
    "%%writefile main.py\n",
    "from fastapi import FastAPI\n",
    "\n",
    "app = FastAPI()\n",
    "\n",
    "\n",
    "@app.get(\"/\")\n",
    "def root():\n",
    "    return {\"message\": \"Hello World\"}"
   ]
  },
  {
   "cell_type": "markdown",
   "id": "8b7ea056-2a3e-4c32-bcf2-06c942f17077",
   "metadata": {},
   "source": [
    "run the app by executuring the following command in terminal from this directory"
   ]
  },
  {
   "cell_type": "raw",
   "id": "3fde2265-0e42-4f25-89ab-7bb8e20f9f29",
   "metadata": {},
   "source": [
    "fastapi dev main.py"
   ]
  },
  {
   "cell_type": "code",
   "execution_count": 10,
   "id": "c4e3d181-740a-4d53-8d1c-2e8f60743436",
   "metadata": {},
   "outputs": [
    {
     "name": "stdout",
     "output_type": "stream",
     "text": [
      "{\"message\":\"Hello World\"}"
     ]
    }
   ],
   "source": [
    "!curl http://localhost:8000"
   ]
  },
  {
   "cell_type": "markdown",
   "id": "3209a6c1-5e23-446d-80ca-15590eec1026",
   "metadata": {},
   "source": [
    "### Section 1.2 - GET operations"
   ]
  },
  {
   "cell_type": "markdown",
   "id": "461c1cb3-93d1-4e7d-a759-1819a95c320a",
   "metadata": {},
   "source": [
    "#### Hello world\n",
    "\n",
    "Let's build your first GET endpoint! You can't run the FastAPI server directly with \"Run this file\" - see the instructions for how to run and stop the server from the terminal."
   ]
  },
  {
   "cell_type": "code",
   "execution_count": 17,
   "id": "cf1ac2e1-696b-445d-95fd-24b8aa2f99f7",
   "metadata": {},
   "outputs": [
    {
     "name": "stdout",
     "output_type": "stream",
     "text": [
      "Overwriting main.py\n"
     ]
    }
   ],
   "source": [
    "%%writefile main.py\n",
    "from fastapi import FastAPI\n",
    "\n",
    "app = FastAPI()\n",
    "\n",
    "\n",
    "@app.get(\"/\")\n",
    "def root():\n",
    "    return {\"message\": \"Hello World\"}\n",
    "\n",
    "@app.get(\"/hello\")\n",
    "def hello(name: str = \"Alan\"):\n",
    "    return {\"message\": f\"Hello {name}\"}"
   ]
  },
  {
   "cell_type": "code",
   "execution_count": 12,
   "id": "bb306769-9484-4c5d-80bf-469e48f0a2df",
   "metadata": {},
   "outputs": [
    {
     "name": "stdout",
     "output_type": "stream",
     "text": [
      "{\"message\":\"Hello World\"}"
     ]
    }
   ],
   "source": [
    "!curl http://localhost:8000"
   ]
  },
  {
   "cell_type": "code",
   "execution_count": 13,
   "id": "ec15e948-ae90-4ffe-be04-e6102674ca84",
   "metadata": {},
   "outputs": [
    {
     "name": "stdout",
     "output_type": "stream",
     "text": [
      "{\"message\":\"Hello Alan\"}"
     ]
    }
   ],
   "source": [
    "!curl http://localhost:8000/hello"
   ]
  },
  {
   "cell_type": "code",
   "execution_count": 18,
   "id": "1836878f-6e64-4f56-9f00-1407c8cf1d5f",
   "metadata": {},
   "outputs": [
    {
     "name": "stdout",
     "output_type": "stream",
     "text": [
      "{\"message\":\"Hello Alan\"}"
     ]
    }
   ],
   "source": [
    "!curl -H 'Content-Type: application/jsons' http://localhost:8000/hello"
   ]
  },
  {
   "cell_type": "code",
   "execution_count": 19,
   "id": "ac678864-5fa0-4277-9204-a0bd2ff825f6",
   "metadata": {},
   "outputs": [
    {
     "name": "stdout",
     "output_type": "stream",
     "text": [
      "200\n",
      "{'message': 'Hello World'}\n"
     ]
    }
   ],
   "source": [
    "import requests\n",
    "\n",
    "response = requests.get(\n",
    "    \"http://localhost:8000\",\n",
    "    headers={\"Content-Type\": \"application/json\"},\n",
    "    params={\"name\": \"Steve\"}\n",
    ")\n",
    "\n",
    "print(response.status_code)\n",
    "print(response.json())"
   ]
  },
  {
   "cell_type": "markdown",
   "id": "e17c614e-164a-4159-a484-ae4a5e098392",
   "metadata": {},
   "source": [
    "### Section 1.3 - POST operations"
   ]
  },
  {
   "cell_type": "markdown",
   "id": "c649e88d-74a9-45ed-8b45-0bdef95d83bf",
   "metadata": {},
   "source": [
    "#### Pydantic model\n",
    "\n",
    "You've been asked to create an API endpoint that manages items in inventory. To get started, create a Pydantic model for Items that has attributes name, quantity, and expiration."
   ]
  },
  {
   "cell_type": "code",
   "execution_count": 25,
   "id": "87934080-d945-4aed-b3fc-31080cff3fff",
   "metadata": {},
   "outputs": [],
   "source": [
    "# Import date\n",
    "from datetime import date\n",
    "\n",
    "# Import BaseModel\n",
    "from pydantic import BaseModel\n",
    "\n",
    "# Define model Item\n",
    "class Item(BaseModel):\n",
    "    name: str\n",
    "    quantity: int = 0\n",
    "    expiration: date = None"
   ]
  },
  {
   "cell_type": "markdown",
   "id": "5838ad71-afdc-4881-ad9d-c6ea6137efd3",
   "metadata": {},
   "source": [
    "#### POST operation in action\n",
    "You've been asked to create an API endpoint that accepts a `name` parameter and returns a message saying \"We have name\". To accomplish this, create a Pydantic model for Item and root endpoint (/) that serves HTTP POST operations. The endpoint should accept the `Item` model as input and respond with a message including `Item.name`.\n",
    "\n",
    "You can't run the FastAPI server directly with \"Run this file\" - see the instructions for how to run the server and test your code from the terminal."
   ]
  },
  {
   "cell_type": "code",
   "execution_count": 28,
   "id": "c86750f8-4e95-49cc-a707-6e81239ceb12",
   "metadata": {},
   "outputs": [
    {
     "name": "stdout",
     "output_type": "stream",
     "text": [
      "Overwriting main.py\n"
     ]
    }
   ],
   "source": [
    "%%writefile main.py\n",
    "from fastapi import FastAPI\n",
    "from pydantic import BaseModel\n",
    "\n",
    "# Define model Item\n",
    "class Item(BaseModel):\n",
    "    name: str\n",
    "\n",
    "app = FastAPI()\n",
    "\n",
    "\n",
    "@app.post(\"/\")\n",
    "def root(item: Item):\n",
    "    name = item.name\n",
    "    return {\"message\": f\"We have {name}\"}"
   ]
  },
  {
   "cell_type": "raw",
   "id": "5663547f-00f4-4472-9df4-d9f3a23c4e9c",
   "metadata": {},
   "source": [
    "curl -X POST \\\n",
    "  -H 'Content-Type: application/json' \\\n",
    "  -d '{\"name\": \"bananas\"}' \\\n",
    "  http://localhost:8000"
   ]
  },
  {
   "cell_type": "code",
   "execution_count": 36,
   "id": "8aff43ba-863e-4a49-8a7f-0706f3a2db82",
   "metadata": {},
   "outputs": [
    {
     "name": "stdout",
     "output_type": "stream",
     "text": [
      "{\"message\":\"We have bananas\"}"
     ]
    }
   ],
   "source": [
    "!curl -X POST -H 'Content-Type: application/json' -d '{\"name\": \"bananas\"}' http://localhost:8000"
   ]
  },
  {
   "cell_type": "code",
   "execution_count": 35,
   "id": "e151b147-34b7-4bf6-be5b-ffd6f52419c5",
   "metadata": {},
   "outputs": [
    {
     "name": "stdout",
     "output_type": "stream",
     "text": [
      "200\n",
      "{'message': 'We have Steve'}\n"
     ]
    }
   ],
   "source": [
    "import requests\n",
    "\n",
    "response = requests.post(\n",
    "    \"http://localhost:8000\",\n",
    "    headers={\"Content-Type\": \"application/json\"},\n",
    "    json={\"name\": \"Steve\"}\n",
    ")\n",
    "\n",
    "print(response.status_code)\n",
    "print(response.json())"
   ]
  },
  {
   "cell_type": "markdown",
   "id": "ff4a624e-a74a-49fd-b9e4-a1a128c33eac",
   "metadata": {},
   "source": [
    "## Chapter 2 - FastAPI Advanced topics"
   ]
  },
  {
   "cell_type": "markdown",
   "id": "d3d0701f-1b2f-4b4b-af5a-3066808e5e08",
   "metadata": {},
   "source": [
    "### Section 2.1 PUT and DELETE operations"
   ]
  },
  {
   "cell_type": "markdown",
   "id": "bda99042-43da-4049-9443-02087f85c244",
   "metadata": {},
   "source": [
    "#### PUT operation in action\n",
    "You've been asked to create a PUT endpoint `/items` that accepts parameters `name` and `description` and updates the `description` based on the `name` in a key-value store called `items`.\n",
    "\n",
    "You can't run the FastAPI server directly with \"Run this file\" - see the instructions for how to run the server and test your code from the terminal."
   ]
  },
  {
   "cell_type": "code",
   "execution_count": 44,
   "id": "75843410-3c53-46d5-af36-7e148f02f45b",
   "metadata": {},
   "outputs": [
    {
     "name": "stdout",
     "output_type": "stream",
     "text": [
      "Overwriting main.py\n"
     ]
    }
   ],
   "source": [
    "%%writefile main.py\n",
    "from fastapi import FastAPI\n",
    "from pydantic import BaseModel\n",
    "\n",
    "# Define model Item\n",
    "class Item(BaseModel):\n",
    "    name: str\n",
    "    description: str\n",
    "\n",
    "# Define items at application start\n",
    "items = {\"bananas\": \"Yellow fruit.\"}\n",
    "\n",
    "app = FastAPI()\n",
    "\n",
    "\n",
    "@app.put(\"/items\")\n",
    "def update_item(item: Item):\n",
    "    name = item.name\n",
    "    # Update the description\n",
    "    items[name] = item.description\n",
    "    return item"
   ]
  },
  {
   "cell_type": "raw",
   "id": "99b4d4bc-6774-44c6-835a-3d043957136e",
   "metadata": {},
   "source": [
    "curl -X PUT \\\n",
    "  -H 'Content-Type: application/json' \\\n",
    "  -d '{\"name\": \"bananas\", \"description\": \"Delicious!\"}' \\\n",
    "  http://localhost:8000/items"
   ]
  },
  {
   "cell_type": "code",
   "execution_count": 45,
   "id": "d41cd6d5-6662-4aec-bec3-03673fba4978",
   "metadata": {},
   "outputs": [
    {
     "name": "stdout",
     "output_type": "stream",
     "text": [
      "{\"name\":\"bananas\",\"description\":\"Delicious!\"}"
     ]
    }
   ],
   "source": [
    "!curl -X PUT -H 'Content-Type: application/json' -d '{\"name\": \"bananas\", \"description\": \"Delicious!\"}' http://localhost:8000/items"
   ]
  },
  {
   "cell_type": "code",
   "execution_count": 48,
   "id": "e4519782-1b25-4f3a-b6ab-1ed38aedefa0",
   "metadata": {},
   "outputs": [
    {
     "data": {
      "text/plain": [
       "{'name': 'bananas', 'description': 'Delicious!'}"
      ]
     },
     "execution_count": 48,
     "metadata": {},
     "output_type": "execute_result"
    }
   ],
   "source": [
    "data = {\"name\": \"bananas\", \"description\": \"Delicious!\"}\n",
    "headers={\"Content-Type\": \"application/json\"}\n",
    "response = requests.put(\"http://localhost:8000/items\", json=data, headers=headers)\n",
    "response.json()"
   ]
  },
  {
   "cell_type": "markdown",
   "id": "9c694915-1521-4be7-9077-09741ce1176d",
   "metadata": {},
   "source": [
    "#### DELETE operation in action\n",
    "\n",
    "You've been asked to create a DELETE endpoint that accepts parameter name and deletes the item called `name` from a key store called `items`.\n",
    "\n",
    "You can't run the FastAPI server directly with \"Run this file\" - see the instructions for how to run the server and test your code from the terminal."
   ]
  },
  {
   "cell_type": "code",
   "execution_count": 69,
   "id": "7ec99952-b0c7-4d81-83a8-d132b30af8b9",
   "metadata": {},
   "outputs": [
    {
     "name": "stdout",
     "output_type": "stream",
     "text": [
      "Overwriting main.py\n"
     ]
    }
   ],
   "source": [
    "%%writefile main.py\n",
    "from fastapi import FastAPI\n",
    "from pydantic import BaseModel\n",
    "\n",
    "# Define model Item\n",
    "class Item(BaseModel):\n",
    "    name: str\n",
    "\n",
    "# Define items at application start\n",
    "items = {\"apples\", \"oranges\", \"bananas\"}\n",
    "\n",
    "app = FastAPI()\n",
    "\n",
    "\n",
    "@app.delete(\"/items\")\n",
    "def delete_item(item: Item):\n",
    "    name = item.name\n",
    "    # Delete the item\n",
    "    items.remove(name)\n",
    "    return {}"
   ]
  },
  {
   "cell_type": "raw",
   "id": "312151f3-8c97-49e1-8e33-2f1737965082",
   "metadata": {},
   "source": [
    "curl -X DELETE \\\n",
    "  -H 'Content-Type: application/json' \\\n",
    "  -d '{\"name\": \"bananas\"}' \\\n",
    "  http://localhost:8000/items"
   ]
  },
  {
   "cell_type": "code",
   "execution_count": 70,
   "id": "128a73a9-43f5-4f22-9481-f021749866c1",
   "metadata": {},
   "outputs": [
    {
     "name": "stdout",
     "output_type": "stream",
     "text": [
      "{}"
     ]
    }
   ],
   "source": [
    "!curl -X DELETE -H 'Content-Type: application/json' -d '{\"name\": \"bananas\"}' http://localhost:8000/items"
   ]
  },
  {
   "cell_type": "code",
   "execution_count": 71,
   "id": "636cd8c0-9a1a-42e0-846d-68e79b5de6e4",
   "metadata": {},
   "outputs": [
    {
     "data": {
      "text/plain": [
       "{}"
      ]
     },
     "execution_count": 71,
     "metadata": {},
     "output_type": "execute_result"
    }
   ],
   "source": [
    "url = \"http://localhost:8000/items\"\n",
    "data = {\"name\": \"apples\"}\n",
    "headers = {'Content-Type': 'application/json'}\n",
    "response = requests.delete(url, json=data, headers=headers)\n",
    "response.json()"
   ]
  },
  {
   "cell_type": "markdown",
   "id": "3c5bbd10-2d99-4842-ba0f-e1a64f5d5c5b",
   "metadata": {},
   "source": [
    "### Section 2.2 - Handling errors"
   ]
  },
  {
   "cell_type": "markdown",
   "id": "39fe9527-5cf6-487b-a5f6-a7941d79e344",
   "metadata": {},
   "source": [
    "#### Handling a client error\n",
    "\n",
    "You've been asked to create a DELETE endpoint that accepts parameter `name` and deletes the item called name from a key store called `items`. If the item is not found, the endpoint should return an appropriate status code and detailed message.\n",
    "\n",
    "You can't run the FastAPI server directly with \"Run this file\" - see the instructions for how to run the server and test your code from the terminal."
   ]
  },
  {
   "cell_type": "code",
   "execution_count": 77,
   "id": "dc6ce60f-fb30-4039-a815-5799ea4f63cd",
   "metadata": {},
   "outputs": [
    {
     "name": "stdout",
     "output_type": "stream",
     "text": [
      "Overwriting main.py\n"
     ]
    }
   ],
   "source": [
    "%%writefile main.py\n",
    "from fastapi import FastAPI, HTTPException\n",
    "from pydantic import BaseModel\n",
    "\n",
    "# Define model Item\n",
    "class Item(BaseModel):\n",
    "    name: str\n",
    "\n",
    "# Define items at application startup\n",
    "items = {\"apples\", \"oranges\"}\n",
    "\n",
    "app = FastAPI()\n",
    "\n",
    "\n",
    "@app.delete(\"/items\")\n",
    "def delete_item(item: Item):\n",
    "    name = item.name\n",
    "    if name in items:\n",
    "        items.remove(name)\n",
    "    else:\n",
    "        # Raise HTTPException with status code for \"not found\"\n",
    "        raise HTTPException(status_code=404, detail=\"Item not found.\")\n",
    "    return {}"
   ]
  },
  {
   "cell_type": "raw",
   "id": "80ebf366-0c2f-4ccd-939e-6d4d79de4312",
   "metadata": {},
   "source": [
    "curl -X DELETE \\\n",
    "  -H 'Content-Type: application/json' \\\n",
    "  -d '{\"name\": \"bananas\"}' \\\n",
    "  http://localhost:8000/items"
   ]
  },
  {
   "cell_type": "code",
   "execution_count": 79,
   "id": "51b16eb0-992a-4a0d-a6aa-31982c452e4e",
   "metadata": {},
   "outputs": [
    {
     "name": "stdout",
     "output_type": "stream",
     "text": [
      "{\"detail\":\"Item not found.\"}"
     ]
    }
   ],
   "source": [
    "!curl -X DELETE -H 'Content-Type: application/json' -d '{\"name\": \"bananas\"}'  http://localhost:8000/items"
   ]
  },
  {
   "cell_type": "code",
   "execution_count": 82,
   "id": "481264d2-e4d9-4529-a655-c948ae722d27",
   "metadata": {},
   "outputs": [
    {
     "data": {
      "text/plain": [
       "{'detail': 'Item not found.'}"
      ]
     },
     "execution_count": 82,
     "metadata": {},
     "output_type": "execute_result"
    }
   ],
   "source": [
    "url = \"http://localhost:8000/items\"\n",
    "data = {\"name\": \"peach\"}\n",
    "headers = {'Content-Type': 'application/json'}\n",
    "response = requests.delete(url, json=data, headers=headers)\n",
    "response.json()"
   ]
  },
  {
   "cell_type": "code",
   "execution_count": null,
   "id": "31138c26-802f-4f1d-a725-8baf9410e542",
   "metadata": {},
   "outputs": [],
   "source": []
  },
  {
   "cell_type": "code",
   "execution_count": null,
   "id": "62e2d835-3adc-4a18-86b2-3cbb6c4f8a6b",
   "metadata": {},
   "outputs": [],
   "source": []
  },
  {
   "cell_type": "code",
   "execution_count": null,
   "id": "6184843d-4636-4d7a-82dd-9904b0187e3e",
   "metadata": {},
   "outputs": [],
   "source": []
  },
  {
   "cell_type": "code",
   "execution_count": null,
   "id": "24898989-00ce-4da4-9cb5-a41b45d62436",
   "metadata": {},
   "outputs": [],
   "source": []
  },
  {
   "cell_type": "code",
   "execution_count": null,
   "id": "18b5e800-084b-4e43-b1bb-4304078c0ae4",
   "metadata": {},
   "outputs": [],
   "source": []
  },
  {
   "cell_type": "code",
   "execution_count": 49,
   "id": "879d35cd-ecc0-4997-a1f8-642e2cc23255",
   "metadata": {},
   "outputs": [
    {
     "name": "stdout",
     "output_type": "stream",
     "text": [
      "Overwriting main.py\n"
     ]
    }
   ],
   "source": [
    "%%writefile main.py\n",
    "from pydantic import BaseModel\n",
    "from fastapi import FastAPI\n",
    "\n",
    "app = FastAPI()\n",
    "\n",
    "class Review(BaseModel):\n",
    "    num_stars: int\n",
    "    text: str\n",
    "    public: bool = False\n",
    "\n",
    "class MovieReview(BaseModel):\n",
    "    movie: str\n",
    "    # Nest Review in MovieReview\n",
    "    review: Review\n",
    "\n",
    "@app.get(\"/\")\n",
    "def root():\n",
    "    return {\"message\": \"Hello World\"}\n",
    "\n",
    "@app.get(\"/hello\")\n",
    "def hello(name: str = \"Alan\"):\n",
    "    return {\"message\": f\"Hello {name}\"}\n",
    "\n",
    "@app.post(\"/reviews\", response_model=DbReview)\n",
    "def create_review(review: MovieReview):\n",
    "    # Persist the movie review to the database\n",
    "    db_review = crud.create_review(review)\n",
    "    #Return the review including the database ID\n",
    "    return db_review"
   ]
  },
  {
   "cell_type": "code",
   "execution_count": null,
   "id": "8b5c1411-e2f2-49b3-990c-f485a297c9e8",
   "metadata": {},
   "outputs": [],
   "source": []
  },
  {
   "cell_type": "code",
   "execution_count": null,
   "id": "712bcfa5-05e5-4ee1-b7d8-de33b8fc15c2",
   "metadata": {},
   "outputs": [],
   "source": []
  }
 ],
 "metadata": {
  "kernelspec": {
   "display_name": "Python 3 (ipykernel)",
   "language": "python",
   "name": "python3"
  },
  "language_info": {
   "codemirror_mode": {
    "name": "ipython",
    "version": 3
   },
   "file_extension": ".py",
   "mimetype": "text/x-python",
   "name": "python",
   "nbconvert_exporter": "python",
   "pygments_lexer": "ipython3",
   "version": "3.10.12"
  }
 },
 "nbformat": 4,
 "nbformat_minor": 5
}
